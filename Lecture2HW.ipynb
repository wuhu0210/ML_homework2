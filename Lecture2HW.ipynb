{
 "cells": [
  {
   "cell_type": "markdown",
   "id": "dbe839c7",
   "metadata": {},
   "source": [
    "# 这两块的代码不要动，顺序运行即可"
   ]
  },
  {
   "cell_type": "code",
   "execution_count": 4,
   "id": "727a29c7",
   "metadata": {},
   "outputs": [],
   "source": [
    "import numpy as np\n",
    "import matplotlib.pyplot as plt"
   ]
  },
  {
   "cell_type": "code",
   "execution_count": 5,
   "id": "9e242c13",
   "metadata": {},
   "outputs": [],
   "source": [
    "def rank_matrix(matrix):\n",
    "    cnum = matrix.shape[1]\n",
    "    rnum = matrix.shape[0]\n",
    "    ## 升序排序索引\n",
    "    sorts = np.argsort(matrix)\n",
    "    for i in range(rnum):\n",
    "        k = 1\n",
    "        n = 0\n",
    "        flag = False\n",
    "        nsum = 0\n",
    "        for j in range(cnum):\n",
    "            n = n+1\n",
    "            ## 相同排名评分序值\n",
    "            if j < 3 and matrix[i, sorts[i,j]] == matrix[i, sorts[i,j + 1]]:\n",
    "                flag = True;\n",
    "                k = k + 1;\n",
    "                nsum += j + 1;\n",
    "            elif (j == 3 or (j < 3 and matrix[i, sorts[i,j]] != matrix[i, sorts[i,j + 1]])) and flag:\n",
    "                nsum += j + 1\n",
    "                flag = False;\n",
    "                for q in range(k):\n",
    "                    matrix[i,sorts[i,j - k + q + 1]] = nsum / k\n",
    "                k = 1\n",
    "                flag = False\n",
    "                nsum = 0\n",
    "            else:\n",
    "                matrix[i, sorts[i,j]] = j + 1\n",
    "                continue\n",
    "    return matrix\n",
    "\n",
    "\"\"\"\n",
    "    Friedman检验\n",
    "    参数：数据集个数n, 算法种数k, 排序矩阵rank_matrix(k x n)\n",
    "    函数返回检验结果（对应于排序矩阵列顺序的一维数组）\n",
    "\"\"\"\n",
    "def friedman(n, k, rank_matrix):\n",
    "    # 计算每一列的排序和\n",
    "    sumr = sum(list(map(lambda x: np.mean(x) ** 2, rank_matrix)))\n",
    "    result = 12 * n / (k * ( k + 1)) * (sumr - k * (k + 1) ** 2 / 4)\n",
    "    result = (n - 1) * result /(n * (k - 1) - result)\n",
    "    return result\n",
    "\n",
    "\"\"\"\n",
    "    Nemenyi检验\n",
    "    参数：数据集个数n, 算法种数k, 排序矩阵rank_matrix(k x n)\n",
    "    函数返回CD值\n",
    "\"\"\"\n",
    "\n",
    "def nemenyi(n, k, q):\n",
    "    return q * (np.sqrt(k * (k + 1) / (6 * n)))"
   ]
  },
  {
   "cell_type": "markdown",
   "id": "6d5434f3",
   "metadata": {},
   "source": [
    "## 修改matrix_rank来调整输入矩阵，思考一下应该是几行几列\n",
    "\n",
    "## 修改Friedman和Nemenyi的参数"
   ]
  },
  {
   "cell_type": "code",
   "execution_count": 12,
   "id": "7fccefaa",
   "metadata": {},
   "outputs": [
    {
     "name": "stdout",
     "output_type": "stream",
     "text": [
      "rank: [[4 4 2 4]\n",
      " [3 3 4 3]\n",
      " [2 1 1 1]\n",
      " [5 5 5 5]\n",
      " [1 2 3 2]]\n",
      "Friedman: 15.461538461538465\n",
      "CD: 3.0499967213097134\n",
      "Email: 1493347833@qq.com\n"
     ]
    },
    {
     "data": {
      "image/png": "[encoded data removed]",
      "text/plain": [
       "<Figure size 432x288 with 1 Axes>"
      ]
     },
     "metadata": {
      "needs_background": "light"
     },
     "output_type": "display_data"
    }
   ],
   "source": [
    "    \n",
    "matrix_rank = np.array([[4, 4, 2, 4], [3, 3, 4, 3], [2, 1, 1, 1],\n",
    "                        [5, 5, 5, 5], [1, 2, 3, 2]])    #每行代表1个分类器在4个性能指标/数据集上的表现\n",
    "\n",
    "Friedman = friedman(4, 5, matrix_rank)    #修改参数\n",
    "\n",
    "CD = nemenyi(4, 5, 2.728)    #参数\n",
    "\n",
    "## 画CD图\n",
    "rank_x = list(map(lambda x: np.mean(x), matrix_rank))\n",
    "name_y = [\"A1\", \"A2\", \"A3\", \"A4\", \"A5\"]\n",
    "min_ = [x for x in rank_x - CD/2]\n",
    "max_ = [x for x in rank_x + CD/2]\n",
    "\n",
    "plt.title(\"Friedman Test\")\n",
    "plt.scatter(rank_x, name_y)\n",
    "plt.hlines(name_y, min_,max_)\n",
    "\n",
    "print(\"rank:\", matrix_rank)\n",
    "print(\"Friedman:\", Friedman)\n",
    "print(\"CD:\", CD)\n",
    "print(\"Email: 1493347833@qq.com\")    #截图显示Canvasqq号\n",
    "    \n",
    "\n",
    "\n",
    "\n"
   ]
  }
 ],
 "metadata": {
  "kernelspec": {
   "display_name": "Python 3",
   "language": "python",
   "name": "python3"
  },
  "language_info": {
   "codemirror_mode": {
    "name": "ipython",
    "version": 3
   },
   "file_extension": ".py",
   "mimetype": "text/x-python",
   "name": "python",
   "nbconvert_exporter": "python",
   "pygments_lexer": "ipython3",
   "version": "3.10.9"
  }
 },
 "nbformat": 4,
 "nbformat_minor": 5
}
